{
 "cells": [
  {
   "cell_type": "code",
   "execution_count": 1,
   "id": "609fb798",
   "metadata": {},
   "outputs": [],
   "source": [
    "import pandas as pd\n",
    "import numpy as np\n",
    "import oci\n",
    "import getpass\n",
    "import oracledb\n",
    "import os\n",
    "from dotenv import load_dotenv"
   ]
  },
  {
   "cell_type": "code",
   "execution_count": null,
   "id": "8034a826",
   "metadata": {},
   "outputs": [],
   "source": [
    "load_dotenv()"
   ]
  },
  {
   "cell_type": "code",
   "execution_count": null,
   "id": "36cf3a38",
   "metadata": {},
   "outputs": [],
   "source": [
    "# #Replace the dsn,config_dir,wallet_location,wallet_password below with your values.\n",
    "# pw = getpass.getpass(\"Enter password:\")\n",
    "# wallet_pw=getpass.getpass(\"Enter wallet password:\")\n",
    "# connection=oracledb.connect(\n",
    "#      user=\"admin\",\n",
    "#      password=\"Password of your database you set during creation\",\n",
    "#      dsn=\"Connection string in tnsnames.ora file\",\n",
    "#      config_dir= \"Location of the tnsnames.ora file\",\n",
    "#      wallet_location=\"Location where the wallet is downloaded\",\n",
    "#      wallet_password=\"Password of the wallet fiel downloaded when creating the Autonomoud database\")"
   ]
  },
  {
   "cell_type": "code",
   "execution_count": null,
   "id": "0a6e4347",
   "metadata": {},
   "outputs": [],
   "source": [
    "connection=oracledb.connect(\n",
    "    #By default the username is admin when you create the database\n",
    "     user=os.getenv(\"USERNAME\"),\n",
    "    #Password of your database you set during creation\n",
    "     password=os.getenv(\"PASSWORD\"), \n",
    "    #Connection string in tnsnames.ora file\n",
    "     dsn=os.getenv(\"DSN\"),\n",
    "    #Location of the tnsnames.ora file\n",
    "     config_dir=os.getenv(\"CONFIG_DIR\"),\n",
    "    #Location where the wallet is downloaded\n",
    "     wallet_location=os.getenv(\"WALLET_LOCATION\"),\n",
    "    #Password of the wallet fiel downloaded when creating the Autonomoud database\n",
    "     wallet_password=os.getenv(\"WALLET_PASSWORD\"))"
   ]
  },
  {
   "cell_type": "code",
   "execution_count": 2,
   "id": "49bc6512",
   "metadata": {},
   "outputs": [],
   "source": [
    "data=pd.read_csv(\"custom_pred.csv\")"
   ]
  },
  {
   "cell_type": "code",
   "execution_count": null,
   "id": "23b186a0",
   "metadata": {},
   "outputs": [],
   "source": [
    "data.rename(columns={'labels': 'model_pred'}, inplace=True)"
   ]
  },
  {
   "cell_type": "code",
   "execution_count": null,
   "id": "fb027d29",
   "metadata": {},
   "outputs": [],
   "source": [
    "data.rename(columns={'sentiment': 'actual_label'}, inplace=True)"
   ]
  },
  {
   "cell_type": "code",
   "execution_count": null,
   "id": "fdf938b0",
   "metadata": {},
   "outputs": [],
   "source": [
    "rows2 = list(data.to_records(index=False))"
   ]
  },
  {
   "cell_type": "code",
   "execution_count": null,
   "id": "002b9ddb",
   "metadata": {},
   "outputs": [],
   "source": [
    "for i in range(len(rows2)):\n",
    "        rows2[i] = list(rows2[i])  # Convert tuple to list\n",
    "        rows2[i][-4] = np.int64(rows2[i][-4]).item()\n",
    "        rows2[i][-3] = np.float64(rows2[i][-3]).item()\n",
    "        rows2[i][-2] = np.int64(rows2[i][-2]).item()\n",
    "        rows2[i] = list(rows2[i])"
   ]
  },
  {
   "cell_type": "code",
   "execution_count": null,
   "id": "e0e39b53",
   "metadata": {},
   "outputs": [],
   "source": [
    "with connection.cursor() as cursor:\n",
    "    cursor.execute(\"\"\"\n",
    "        begin\n",
    "            execute immediate 'drop table twitter_sentiments';\n",
    "            exception when others then if sqlcode <> -942 then raise; end if;\n",
    "        end;\"\"\")\n",
    "    cursor.execute(\"\"\"\n",
    "        CREATE TABLE twitter_sentiments (\n",
    "            textID VARCHAR2(4000),\n",
    "            text VARCHAR2(4000),\n",
    "            selected_text VARCHAR2(4000),\n",
    "            actual_label VARCHAR2(4000),\n",
    "            \"time_of_tweet\" VARCHAR2(4000),\n",
    "            \"age_of_user\" VARCHAR2(4000),\n",
    "            country VARCHAR2(4000),\n",
    "            \"population\" INTEGER ,\n",
    "            \"land_area\" FLOAT(10),\n",
    "            \"density\" INTEGER ,\n",
    "             model_pred VARCHAR2(4000)\n",
    "        )\\\n",
    "        \"\"\")\n",
    "    data = rows2\n",
    "\n",
    "    sql = \"\"\"\n",
    "        INSERT INTO twitter_sentiments (textID, text, selected_text, actual_label, \"time_of_tweet\", \"age_of_user\", country, \"population\", \"land_area\", \"density\", model_pred)\n",
    "        VALUES (:1, :2, :3, :4, :5, :6, :7, :8, :9, :10, :11)\n",
    "        \"\"\"\n",
    "\n",
    "    for row in data:\n",
    "        cursor.execute(sql, row)\n",
    "\n",
    "# Commit the changes\n",
    "connection.commit()\n"
   ]
  }
 ],
 "metadata": {
  "kernelspec": {
   "display_name": "Python 3 (ipykernel)",
   "language": "python",
   "name": "python3"
  },
  "language_info": {
   "codemirror_mode": {
    "name": "ipython",
    "version": 3
   },
   "file_extension": ".py",
   "mimetype": "text/x-python",
   "name": "python",
   "nbconvert_exporter": "python",
   "pygments_lexer": "ipython3",
   "version": "3.10.9"
  }
 },
 "nbformat": 4,
 "nbformat_minor": 5
}
